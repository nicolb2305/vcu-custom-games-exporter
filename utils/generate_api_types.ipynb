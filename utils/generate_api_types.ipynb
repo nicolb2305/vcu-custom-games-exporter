{
 "cells": [
  {
   "cell_type": "code",
   "execution_count": null,
   "metadata": {},
   "outputs": [],
   "source": [
    "import pandas as pd\n",
    "import requests"
   ]
  },
  {
   "cell_type": "code",
   "execution_count": null,
   "metadata": {},
   "outputs": [],
   "source": [
    "json = requests.get(\"https://magisteriis.github.io/riot-games-help-to-swagger-dotnet/lcu/openapi.json\").json()"
   ]
  },
  {
   "cell_type": "code",
   "execution_count": null,
   "metadata": {},
   "outputs": [],
   "source": [
    "df = pd.DataFrame.from_dict(json['components']['schemas']['LolMatchHistoryMatchHistoryTeamBan']['properties'], orient='index')"
   ]
  },
  {
   "cell_type": "code",
   "execution_count": null,
   "metadata": {},
   "outputs": [],
   "source": [
    "print(df['format'].fillna(df['type']).replace({\n",
    "    'boolean': 'bool',\n",
    "    'int64': 'i64',\n",
    "    'int32': 'i32',\n",
    "    'int16': 'i16',\n",
    "    'uint64': 'u64',\n",
    "    'uint32': 'u32',\n",
    "    'uint16': 'u16',\n",
    "    'string': 'String',\n",
    "    'object': 'Value'\n",
    "}).reset_index().apply(lambda x: x['index'] + ': ' + x['format'], axis=1).str.cat(sep=',\\n'))"
   ]
  },
  {
   "cell_type": "code",
   "execution_count": null,
   "metadata": {},
   "outputs": [],
   "source": [
    "translator = {\n",
    "    'boolean': 'bool',\n",
    "    'int64': 'i64',\n",
    "    'int32': 'i32',\n",
    "    'int16': 'i16',\n",
    "    'uint64': 'u64',\n",
    "    'uint32': 'u32',\n",
    "    'uint16': 'u16',\n",
    "    'string': 'String',\n",
    "    'object': 'Value'\n",
    "}\n",
    "\n",
    "print((pd.DataFrame.from_dict(json['components']['schemas'], orient='index')\n",
    "    ['properties']\n",
    "    .dropna()\n",
    "    .groupby(level=0)\n",
    "    .apply(lambda x: pd.DataFrame.from_dict(x.squeeze(), orient='index'))\n",
    "    .assign(\n",
    "        ref=lambda x: x['$ref'].str.split('/').str[-1],\n",
    "        format=lambda x: x['format']\n",
    "            .fillna('Vec<' + \n",
    "                x\n",
    "                ['items']\n",
    "                .dropna()\n",
    "                .apply(pd.Series)\n",
    "                .assign(\n",
    "                    ref=lambda y: y['$ref'].str.split('/').str[-1], \n",
    "                    format=lambda y: y['format'].fillna(y['type']).fillna(y['ref'])\n",
    "                )\n",
    "                ['format']\n",
    "                .replace(translator) +\n",
    "            '>')\n",
    "            .fillna(x['type'])\n",
    "            .fillna(x['ref']),\n",
    "    )\n",
    "    ['format']\n",
    "    .replace(translator)\n",
    ").groupby(level=0).apply(lambda x: f\"\"\"#[derive(Deserialize, Serialize, Debug)]\n",
    "pub struct {x.index[0][0]} {{\n",
    "    {',å    '.join(f'pub {i[1]}: {j}' if i[1] not in ['type', 'async'] else f'#[serde(alias = \"{i[1]}\")]å    pub {i[1]}_: {j}' for i, j in x.iteritems())}\n",
    "}}\"\"\").str.cat(sep='\\n\\n').replace('å', '\\n'))"
   ]
  },
  {
   "cell_type": "code",
   "execution_count": null,
   "metadata": {},
   "outputs": [],
   "source": []
  }
 ],
 "metadata": {
  "kernelspec": {
   "display_name": "Python 3.10.5 64-bit",
   "language": "python",
   "name": "python3"
  },
  "language_info": {
   "codemirror_mode": {
    "name": "ipython",
    "version": 3
   },
   "file_extension": ".py",
   "mimetype": "text/x-python",
   "name": "python",
   "nbconvert_exporter": "python",
   "pygments_lexer": "ipython3",
   "version": "3.10.5"
  },
  "orig_nbformat": 4,
  "vscode": {
   "interpreter": {
    "hash": "89e0abca33cf4a51fed40e84035a9d07b9b47798c9ddd5755346d755ba15d037"
   }
  }
 },
 "nbformat": 4,
 "nbformat_minor": 2
}
